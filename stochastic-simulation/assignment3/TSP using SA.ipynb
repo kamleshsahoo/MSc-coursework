{
 "cells": [
  {
   "cell_type": "code",
   "execution_count": null,
   "metadata": {},
   "outputs": [],
   "source": [
    "import math\n",
    "import random\n",
    "import scipy.stats as st\n",
    "import matplotlib.pyplot as plt\n",
    "import numpy as np\n",
    "import time\n",
    "from prettytable import PrettyTable #pip install prettytable"
   ]
  },
  {
   "cell_type": "markdown",
   "metadata": {},
   "source": [
    "## Simulated Annealing Algorithm with different methods to test parameters\n",
    "- Cooling Schedules\n",
    "  - For additive schedules dont give an 'alpha'\n",
    "  - For multiplicative schedules give schedule and an alpha\n",
    "  \n",
    "- Batch Anneal runs the annealing schedule for mutilple number of 'times' each time with a random starting node.\n",
    "\n",
    "- Reheat runs annealing multiple times starting from the best solution of the previous annealing. It terminates if better\n",
    "  solutions are not found.\n",
    "  \n",
    "- Sampling methods- Sampling with replacement (this is default value) and without replacement. This is only applicable for    \n",
    "  multiple annealings,i.e, the Batch Anneal method. Reheat and Anneal dont require a sampling method.  "
   ]
  },
  {
   "cell_type": "code",
   "execution_count": null,
   "metadata": {},
   "outputs": [],
   "source": [
    "class SimAnneal(object):\n",
    "    def __init__(self, coords, T=-1, alpha=None, stopping_T=-1, cooling_schedule='linear',stopping_iter=-1):\n",
    "        \n",
    "        assert cooling_schedule in ['linear','exponential','logarithmic', 'quadratic','trigonometric'], 'cooling_schedule must be either \"linear\", \"exponential\", \"logarithmic\", \"quadratic\",or \"trigonometric\"'\n",
    "        \n",
    "        self.coords = coords\n",
    "        self.N = len(coords)\n",
    "        self.T = math.sqrt(self.N) if T == -1 else T\n",
    "        self.T_save = self.T  # save inital T to reset if batch annealing is used\n",
    "        self.stopping_temp = 1e-8 if stopping_T == -1 else stopping_T\n",
    "        self.stopping_iter = 100000 if stopping_iter == -1 else stopping_iter\n",
    "        self.cooling_schedule = cooling_schedule\n",
    "        self.iteration = 1\n",
    "        self.nodes = [i for i in range(self.N)]\n",
    "        self.best_solution = None\n",
    "        self.best_fitness = float(\"Inf\")\n",
    "        self.fitness_list = []\n",
    "        self.bestfit_list = []\n",
    "        \n",
    "        \n",
    "        # initialize cooling schedule\n",
    "        if self.cooling_schedule == 'linear':\n",
    "            if alpha != None:\n",
    "                self.update_t = self.cooling_linear_m\n",
    "                self.cooling_schedule = 'linear multiplicative cooling'\n",
    "                self.alpha = alpha\n",
    "            elif alpha == None:\n",
    "                self.update_t = self.cooling_linear_a\n",
    "                self.cooling_schedule = 'linear additive cooling'\n",
    "\n",
    "        elif self.cooling_schedule == 'quadratic':\n",
    "            if alpha != None:\n",
    "                self.update_t = self.cooling_quadratic_m\n",
    "                self.cooling_schedule = 'quadratic multiplicative cooling'\n",
    "                self.alpha = alpha\n",
    "            elif alpha == None:\n",
    "                self.update_t = self.cooling_quadratic_a\n",
    "                self.cooling_schedule = 'quadratic additive cooling'\n",
    "\n",
    "        elif self.cooling_schedule == 'exponential':\n",
    "            if alpha != None: \n",
    "                self.update_t = self.cooling_exponential_m\n",
    "                self.cooling_schedule = 'exponential multiplicative cooling'\n",
    "                self.alpha =  alpha              \n",
    "            elif alpha == None:\n",
    "                self.update_t = self.cooling_exponential_a\n",
    "                self.cooling_schedule = 'exponential additive cooling' \n",
    "            \n",
    "        elif self.cooling_schedule == 'trigonometric':\n",
    "            if alpha != None: \n",
    "                print(\"This is an additive cooling schedule. Alpha value will be igonored!\")\n",
    "                self.update_t = self.cooling_trigonometric_a\n",
    "                self.cooling_schedule = 'trignometric additive cooling'                \n",
    "            elif alpha == None:\n",
    "                self.update_t = self.cooling_trigonometric_a\n",
    "                self.cooling_schedule = 'trignometric additive cooling'\n",
    "        \n",
    "        if self.cooling_schedule == 'logarithmic':\n",
    "            if alpha == None: self.alpha =  1.1\n",
    "            else: self.alpha = alpha\n",
    "            self.update_t = self.cooling_logarithmic_m\n",
    "\n",
    "    def initial_solution(self, samp_method='replace'):    # Get initial solution using nearest neighbor\n",
    "        self.s = self.nodes\n",
    "        cur_node = None\n",
    "        if samp_method == 'no replace':\n",
    "            cur_node = random.choice(s)\n",
    "            self.s.remove(cur_node)\n",
    "        else:\n",
    "            cur_node = random.choice(self.nodes)  # start from a random node\n",
    "        \n",
    "        solution = [cur_node]\n",
    "\n",
    "        free_nodes = set(self.nodes)\n",
    "        free_nodes.remove(cur_node)\n",
    "        while free_nodes:\n",
    "            next_node = min(free_nodes, key=lambda x: self.dist(cur_node, x))  # nearest neighbour\n",
    "            free_nodes.remove(next_node)\n",
    "            solution.append(next_node)\n",
    "            cur_node = next_node\n",
    "\n",
    "        cur_fit = self.fitness(solution)\n",
    "        if cur_fit < self.best_fitness:  # If best found so far, update best fitness\n",
    "            self.best_fitness = cur_fit\n",
    "            self.bestfit_list.append(cur_fit)\n",
    "            self.best_solution = solution\n",
    "        self.fitness_list.append(cur_fit)\n",
    "        return solution, cur_fit\n",
    "\n",
    "    def dist(self, node_0, node_1):    # Calculate Euclidean distance between two nodes\n",
    "        coord_0, coord_1 = self.coords[node_0], self.coords[node_1]\n",
    "        return math.sqrt((coord_0[1] - coord_1[1]) ** 2 + (coord_0[2] - coord_1[2]) ** 2)\n",
    "\n",
    "    def fitness(self, solution):    # Calculate total distance of current solution path\n",
    "        cur_fit = 0\n",
    "        for i in range(self.N):\n",
    "            cur_fit += self.dist(solution[i % self.N], solution[(i + 1) % self.N])\n",
    "        return cur_fit\n",
    "\n",
    "    def p_accept(self, candidate_fitness):    # Acceptance probability/Metropolis criterion ???\n",
    "        return math.exp(-(candidate_fitness - self.cur_fitness) / self.T)\n",
    "\n",
    "    def accept(self, candidate):    # Accept with probability 1 if better than current, accept with probability\n",
    "                                    # p_accept(...) if worse\n",
    "        candidate_fitness = self.fitness(candidate)\n",
    "        if candidate_fitness < self.cur_fitness:\n",
    "            self.cur_fitness, self.cur_solution = candidate_fitness, candidate\n",
    "            if candidate_fitness < self.best_fitness:\n",
    "                self.best_fitness, self.best_solution = candidate_fitness, candidate\n",
    "                self.bestfit_list.append(candidate_fitness)\n",
    "        else:\n",
    "            if random.random() < self.p_accept(candidate_fitness):\n",
    "                self.cur_fitness, self.cur_solution = candidate_fitness, candidate\n",
    "\n",
    "    def anneal(self, reheat=-1,samp_method='replace',batch=-1):    # Execute SA algorithm\n",
    "        assert samp_method in ['replace','no replace'], 'sampling method must be either \"replace\" or \"no replace\"'\n",
    "        # Initialize with the greedy solution.\n",
    "        if reheat==1:\n",
    "            self.cur_solution = self.best_solution\n",
    "            self.cur_fitness = self.best_fitness\n",
    "        elif samp_method=='no replace':   \n",
    "            self.cur_solution, self.cur_fitness = self.initial_solution(samp_method)\n",
    "        else:\n",
    "            self.cur_solution, self.cur_fitness = self.initial_solution()\n",
    "\n",
    "        print(\"Starting annealing.\")\n",
    "        while self.T >= self.stopping_temp and self.iteration < self.stopping_iter:\n",
    "            candidate = list(self.cur_solution)\n",
    "            l = random.randint(2, self.N - 1)\n",
    "            i = random.randint(0, self.N - l)\n",
    "            candidate[i : (i + l)] = reversed(candidate[i : (i + l)])\n",
    "            self.accept(candidate)\n",
    "            self.T = self.update_t(self.iteration)\n",
    "            self.iteration += 1\n",
    "\n",
    "            self.fitness_list.append(self.cur_fitness)\n",
    "           \n",
    "        if batch==1:\n",
    "            print(\"Best fitness obtained: \", self.best_fitness)\n",
    "        else:    \n",
    "            print(\"Best fitness obtained: \", self.best_fitness)\n",
    "            improvement = 100 * (self.fitness_list[0] - self.best_fitness) / (self.fitness_list[0])\n",
    "            print(f\"Improvement over greedy heuristic: {improvement : .2f}%\")\n",
    "        \n",
    "    def reheat(self):    # Reheat and restart SA with last best solution as starting point\n",
    "        self.cur_solution, self.cur_fitness = self.initial_solution()\n",
    "        hist = []\n",
    "        prev_bestfit=float('inf')\n",
    "        loop = 1\n",
    "        while self.best_fitness < prev_bestfit:\n",
    "            prev_bestfit = self.best_fitness \n",
    "            print(f\"Iteration {loop}/ -------------------------------\")\n",
    "            self.T = self.T_save\n",
    "            self.iteration += 1\n",
    "            self.anneal(reheat=1)\n",
    "            hist.append(prev_bestfit)\n",
    "            loop +=1\n",
    "            \n",
    "        return hist\n",
    "            \n",
    "    def batch_anneal(self, times=10, samp_method='replace'):    # Execute SA algorithm with random initial solutions\n",
    "        assert samp_method in ['replace','no replace'], 'sampling method must be either \"replace\" or \"no replace\"'\n",
    "        hist = []\n",
    "        for i in range(1, times + 1):\n",
    "            print(f\"Iteration {i}/{times} -------------------------------\")\n",
    "            self.T = self.T_save\n",
    "            self.iteration = +1\n",
    "            self.anneal(samp_method,batch=1)\n",
    "            hist.append(self.best_fitness)\n",
    "        \n",
    "        return hist\n",
    "\n",
    "    def visualize_routes(self):    # Visualize TSP route\n",
    "        plotTSP([self.best_solution], self.coords)\n",
    "\n",
    "    def plot_learning(self):    # Plot fitness through iterations\n",
    "        fig = plt.figure(figsize=(4,3),dpi=200)\n",
    "        plt.plot([i for i in range(len(self.fitness_list))], self.fitness_list,linewidth=0.6,label=\"Tested distance\")\n",
    "        for i,j in enumerate(self.bestfit_list):\n",
    "            if i==0:\n",
    "                plt.axhline(y=j,linewidth=0.6,xmin=i/len(self.bestfit_list),xmax=(i+1)/len(self.bestfit_list),color='r',label=\"Shortest Distance\")\n",
    "            else:\n",
    "                plt.axhline(y=j,linewidth=0.6,xmin=i/len(self.bestfit_list),xmax=(i+1)/len(self.bestfit_list),color='r')\n",
    "                \n",
    "        plt.ylabel(\"Distance\")\n",
    "        plt.xlabel(\"Iteration\")\n",
    "        plt.legend(bbox_to_anchor=(1, 1))\n",
    "        plt.show()\n",
    "\n",
    "    # linear additive cooling\n",
    "    def cooling_linear_a(self, step):\n",
    "        return self.stopping_temp + (self.T_save - self.stopping_temp) * ((self.stopping_iter - step)/self.stopping_iter)\n",
    "\n",
    "    # quadratic additive cooling\n",
    "    def cooling_quadratic_a(self, step):\n",
    "        return self.stopping_temp + (self.T_save - self.stopping_temp) * ((self.stopping_iter - step)/self.stopping_iter)**2\n",
    "    \n",
    "    # exponential additive cooling\n",
    "    def cooling_exponential_a(self, step):\n",
    "        return self.stopping_temp + (self.T_save - self.stopping_temp)*(1/(1+np.exp((2*np.log(self.T_save - self.stopping_temp)/self.stopping_iter)*(step-(self.stopping_iter/2)))))\n",
    "\n",
    "    # linear multiplicative cooling\n",
    "    def cooling_linear_m(self, step):\n",
    "        return self.T_save /  (1 + self.alpha * step)\n",
    "    \n",
    "    # quadratic multiplicative cooling\n",
    "    def cooling_quadratic_m(alpha,step):\n",
    "        return T_start/(1 + (alpha * step**2))\n",
    "    \n",
    "    # exponential multiplicative cooling\n",
    "    def cooling_exponential_m(self, step):\n",
    "        return self.T_save * self.alpha**step\n",
    "    \n",
    "    # trignometric additive cooling\n",
    "    def cooling_trigonometric_a(self, step):\n",
    "        return self.stopping_temp + 0.5*(self.T_save - self.stopping_temp) * (1+ np.cos((step*np.pi)/self.stopping_iter))\n",
    "    \n",
    "    # logarithmical multiplicative cooling\n",
    "    def cooling_logarithmic_m(self, step):\n",
    "        return self.T_save / (1+(self.alpha * np.log(step + 1)))\n",
    "              \n",
    "        \n",
    "def plotTSP(paths, points):    # Plot TSP route using list of lists with different orders in which nodes\n",
    "                                            # were visited (paths), coordinates of nodes (points), and number of\n",
    "                                            # paths that are in the path list (num_iters)\n",
    "\n",
    "    # Unpack the primary TSP path and transform it into a list of ordered coordinates\n",
    "    plt.style.use('default')\n",
    "    x = []; y = []\n",
    "    for i in paths[0]:\n",
    "        x.append(points[i][1])\n",
    "        y.append(points[i][2])\n",
    "\n",
    "    fig = plt.figure(figsize=(4,3),dpi=200)\n",
    "    plt.plot(x, y, 'bo',  ms=1,label='Nodes')\n",
    "\n",
    "    # Set a scale for the arrow heads \n",
    "    a_scale = float(max(x))/float(100)\n",
    "\n",
    "    # Draw the primary path for the TSP problem\n",
    "    plt.arrow(x[-1], y[-1], (x[0] - x[-1]), (y[0] - y[-1]), head_width = a_scale,\n",
    "            color ='r', length_includes_head=True,label='Starting node at arrow head')\n",
    "    for i in range(0,len(x)-1):\n",
    "        if i==0:\n",
    "            plt.arrow(x[i], y[i], (x[i+1] - x[i]), (y[i+1] - y[i]), head_width = a_scale,\n",
    "                color = 'grey', length_includes_head = True,label='Travel route')\n",
    "        else:\n",
    "            plt.arrow(x[i], y[i], (x[i+1] - x[i]), (y[i+1] - y[i]), head_width = a_scale,\n",
    "                color = 'grey', length_includes_head = True)\n",
    "\n",
    "    plt.xlabel('x')\n",
    "    plt.ylabel('y')\n",
    "    plt.legend(prop={'size': 6},bbox_to_anchor=(1, 1),facecolor='white')\n",
    "    plt.show()"
   ]
  },
  {
   "cell_type": "markdown",
   "metadata": {},
   "source": [
    "## Intialise coordinates and define function to calculate some statistics."
   ]
  },
  {
   "cell_type": "code",
   "execution_count": null,
   "metadata": {},
   "outputs": [],
   "source": [
    "def stats(bestfits, best):\n",
    "    mean = np.mean(bestfits)\n",
    "    error = st.sem(bestfits)\n",
    "    intv95 = st.norm.interval(alpha=0.95, loc=mean, scale=error)\n",
    "    print(f'\\nmean = {mean}, error = {error}, lower bound: {intv95[0]}, upper bound: {intv95[1]}')\n",
    "    fig = plt.figure(figsize=(4,3),dpi=200)\n",
    "    plt.hist(bestfits, bins= 'auto', density=True,color='grey',label=\"Simulation Results with 50 simulations\")   \n",
    "    plt.axvline(x=intv95[0],color='red',linestyle='--',linewidth=0.8,label='Lower bound of 95% Confidence Interval')\n",
    "    plt.axvline(x=intv95[1],color='green',linestyle='--',linewidth=0.8,label='Upper bound of 95% Confidence Interval')\n",
    "    plt.axvline(x=best, color='orange',linestyle='dashdot',label='Shortest distance')\n",
    "    plt.xlabel(\"Distance\")\n",
    "    plt.ylabel(\"Frequency of Occurrence\")\n",
    "    plt.legend(prop={'size': 6},bbox_to_anchor=(1, 1))\n",
    "    plt.show()\n",
    "    return mean, error\n",
    "\n",
    "coords = []\n",
    "with open('a280.tsp.txt', \"r\") as f:\n",
    "\n",
    "    for i,line in enumerate(f.readlines()):\n",
    "        if i<=5 or i>285 : pass\n",
    "        else:\n",
    "            line = [float(x.replace(\"\\n\", \" \")) for x in line.split()]\n",
    "            coords.append(line)"
   ]
  },
  {
   "cell_type": "markdown",
   "metadata": {},
   "source": [
    "## Sampling with or without replacement"
   ]
  },
  {
   "cell_type": "code",
   "execution_count": null,
   "metadata": {},
   "outputs": [],
   "source": [
    "start_time = time.time()\n",
    "sa_norep = SimAnneal(coords,cooling_schedule='exponential',T=20,stopping_T=1e-6,alpha=0.999,stopping_iter=100000)\n",
    "bestfits = sa_norep.batch_anneal(samp_method='replace')  \n",
    "simtime = time.time()-start_time \n",
    "best =  sa_norep.best_fitness\n",
    "sa_norep.visualize_routes()\n",
    "sa_norep.plot_learning()\n",
    "mean, error = stats(bestfits,best)"
   ]
  },
  {
   "cell_type": "markdown",
   "metadata": {},
   "source": [
    "## Reheating\n",
    "- Since reheat continues only when subsequent solutions are better than the previous ones, we run a loop. "
   ]
  },
  {
   "cell_type": "code",
   "execution_count": null,
   "metadata": {},
   "outputs": [],
   "source": [
    "start_time = time.time()\n",
    "bestfits = []\n",
    "for i in range(5):\n",
    "    print('\\033[1m'+\"...........Reheat attempt {}........... \".format(i+1)+'\\033[0m')\n",
    "    sa_rh = SimAnneal(coords)\n",
    "    bestfits.append(sa_rh.reheat())  \n",
    "    \n",
    "simtime = time.time()-start_time\n",
    "print(\"\\nBestfits:\", bestfits,\"\\nSimtime: \" , simtime,\" seconds\")"
   ]
  },
  {
   "cell_type": "markdown",
   "metadata": {},
   "source": [
    "## Test for determining starting temp(T) and maximum iterations <br> Parameters used T = {50,20}, stopping_iter = {100000,50000} , Total simulations = 30. <br><br>The tests are carried for different cooling schedules (the summary statistics are tabulated in a pretty table in every 4th cell):"
   ]
  },
  {
   "cell_type": "markdown",
   "metadata": {},
   "source": [
    "### Linear Additive cooling schedule"
   ]
  },
  {
   "cell_type": "code",
   "execution_count": null,
   "metadata": {},
   "outputs": [],
   "source": [
    "x = PrettyTable()\n",
    "x.field_names = [\"Parameters\", \"Best Solution\", \"Mean\", \"Error\", \"Simulation Time(in secs)\"]\n",
    "start_time = time.time()\n",
    "sa_lin1 = SimAnneal(coords,cooling_schedule='linear',T=100)\n",
    "bestfits = sa_lin1.batch_anneal(times=30)  \n",
    "simtime = time.time()-start_time \n",
    "best =  sa_lin1.best_fitness\n",
    "sa_lin1.visualize_routes()\n",
    "sa_lin1.plot_learning()\n",
    "mean, error = stats(bestfits,best)\n",
    "x.add_row([\"T=100,Maximum Iterations=100,000\",best,mean, error, simtime])"
   ]
  },
  {
   "cell_type": "code",
   "execution_count": null,
   "metadata": {
    "scrolled": true
   },
   "outputs": [],
   "source": [
    "start_time = time.time()\n",
    "\n",
    "sa_lin2 = SimAnneal(coords,cooling_schedule='linear',T=20)\n",
    "bestfits = sa_lin2.batch_anneal(times=30)  \n",
    "simtime = time.time()-start_time\n",
    "best =  sa_lin2.best_fitness\n",
    "sa_lin2.visualize_routes()\n",
    "sa_lin2.plot_learning()\n",
    "mean, error = stats(bestfits,best)\n",
    "x.add_row([\"T=20,Maximum Iterations=100,000\",best,mean, error, simtime])  "
   ]
  },
  {
   "cell_type": "code",
   "execution_count": null,
   "metadata": {},
   "outputs": [],
   "source": [
    "start_time = time.time()\n",
    "\n",
    "sa_lin3 = SimAnneal(coords,cooling_schedule='linear',T=50,stopping_iter=50000)\n",
    "bestfits = sa_lin3.batch_anneal(times=30)  \n",
    "simtime = time.time()-start_time \n",
    "best =  sa_lin3.best_fitness\n",
    "sa_lin3.visualize_routes()\n",
    "sa_lin3.plot_learning()\n",
    "mean, error = stats(bestfits,best)\n",
    "x.add_row([\"T=50,Maximum Iterations=50,000\",best,mean, error, simtime]) "
   ]
  },
  {
   "cell_type": "code",
   "execution_count": null,
   "metadata": {},
   "outputs": [],
   "source": [
    "start_time = time.time()\n",
    "\n",
    "sa_lin4 = SimAnneal(coords,cooling_schedule='linear',T=20,stopping_iter=50000)\n",
    "bestfits = sa_lin4.batch_anneal(times=30)  \n",
    "simtime = time.time()-start_time\n",
    "best =  sa_lin4.best_fitness\n",
    "sa_lin4.visualize_routes()\n",
    "sa_lin4.plot_learning()\n",
    "mean, error = stats(bestfits,best)\n",
    "x.add_row([\"T=20,Maximum Iterations=50,000\",best,mean, error, simtime]) \n",
    "print(x)"
   ]
  },
  {
   "cell_type": "markdown",
   "metadata": {},
   "source": [
    "### Tests for Exponential Additive"
   ]
  },
  {
   "cell_type": "code",
   "execution_count": null,
   "metadata": {},
   "outputs": [],
   "source": [
    "exp_a = PrettyTable()\n",
    "exp_a.field_names = [\"Parameters\", \"Best Solution\", \"Mean\", \"Error\", \"Simulation Time(in secs)\"]\n",
    "\n",
    "start_time = time.time()\n",
    "\n",
    "sa_ea1 = SimAnneal(coords,cooling_schedule='exponential',T=50)\n",
    "bestfits = sa_ea1.batch_anneal(times=30)  \n",
    "simtime = time.time()-start_time\n",
    "best =  sa_ea1.best_fitness\n",
    "sa_ea1.visualize_routes()\n",
    "sa_ea1.plot_learning()\n",
    "mean, error = stats(bestfits,best)\n",
    "exp_a.add_row([\"T=50,Maximum Iterations=100,000\",best,mean, error, simtime]) "
   ]
  },
  {
   "cell_type": "code",
   "execution_count": null,
   "metadata": {},
   "outputs": [],
   "source": [
    "start_time = time.time()\n",
    "\n",
    "sa_ea2 = SimAnneal(coords,cooling_schedule='exponential',T=20)\n",
    "bestfits = sa_ea2.batch_anneal(times=30)  \n",
    "simtime = time.time()-start_time\n",
    "best =  sa_ea2.best_fitness\n",
    "sa_ea2.visualize_routes()\n",
    "sa_ea2.plot_learning()\n",
    "mean, error = stats(bestfits,best)\n",
    "exp_a.add_row([\"T=20,Maximum Iterations=100,000\",best,mean, error, simtime]) "
   ]
  },
  {
   "cell_type": "code",
   "execution_count": null,
   "metadata": {},
   "outputs": [],
   "source": [
    "start_time = time.time()\n",
    "\n",
    "sa_ea3 = SimAnneal(coords,cooling_schedule='exponential',T=50,stopping_iter=50000)\n",
    "bestfits = sa_ea3.batch_anneal(times=30)  \n",
    "simtime = time.time()-start_time\n",
    "best =  sa_ea3.best_fitness\n",
    "sa_ea3.visualize_routes()\n",
    "sa_ea3.plot_learning()\n",
    "mean, error = stats(bestfits,best)\n",
    "exp_a.add_row([\"T=50,Maximum Iterations=50,000\",best,mean, error, simtime]) "
   ]
  },
  {
   "cell_type": "code",
   "execution_count": null,
   "metadata": {},
   "outputs": [],
   "source": [
    "start_time = time.time()\n",
    "\n",
    "sa_ea4 = SimAnneal(coords,cooling_schedule='exponential',T=20,stopping_iter=50000)\n",
    "bestfits = sa_ea4.batch_anneal(times=30)  \n",
    "simtime = time.time()-start_time\n",
    "best =  sa_ea4.best_fitness\n",
    "sa_ea4.visualize_routes()\n",
    "sa_ea4.plot_learning()\n",
    "mean, error = stats(bestfits,best)\n",
    "exp_a.add_row([\"T=20,Maximum Iterations=50,000\",best,mean, error, simtime]) \n",
    "print(exp_a)"
   ]
  },
  {
   "cell_type": "markdown",
   "metadata": {},
   "source": [
    "## Linear Multiplicative Tests"
   ]
  },
  {
   "cell_type": "code",
   "execution_count": null,
   "metadata": {},
   "outputs": [],
   "source": [
    "lintab = PrettyTable()\n",
    "lintab.field_names = [\"Parameters\", \"Best Solution\", \"Mean\", \"Error\", \"Simulation Time(in secs)\"]\n",
    "\n",
    "start_time = time.time()\n",
    "\n",
    "sa_lintab1 = SimAnneal(coords,alpha=1,cooling_schedule='logarithmic',T=50)\n",
    "bestfits = sa_lintab1.batch_anneal(times=30)  \n",
    "simtime = time.time()-start_time\n",
    "best =  sa_lintab1.best_fitness\n",
    "sa_lintab1.visualize_routes()\n",
    "sa_lintab1.plot_learning()\n",
    "mean, error = stats(bestfits,best)\n",
    "lintab.add_row([\"alpha=1,T=50,Maximum Iterations=100,000\",best,mean, error, simtime])"
   ]
  },
  {
   "cell_type": "code",
   "execution_count": null,
   "metadata": {},
   "outputs": [],
   "source": [
    "lintab.field_names = [\"Parameters\", \"Best Solution\", \"Mean\", \"Error\", \"Simulation Time(in secs)\"]\n",
    "\n",
    "start_time = time.time()\n",
    "\n",
    "sa_lintab2 = SimAnneal(coords,alpha=1,cooling_schedule='logarithmic',T=20)\n",
    "bestfits = sa_lintab2.batch_anneal(times=30)  \n",
    "simtime = time.time()-start_time\n",
    "best =  sa_lintab2.best_fitness\n",
    "sa_lintab2.visualize_routes()\n",
    "sa_lintab2.plot_learning()\n",
    "mean, error = stats(bestfits,best)\n",
    "lintab.add_row([\"alpha=1,T=20,Maximum Iterations=100,000\",best,mean, error, simtime])"
   ]
  },
  {
   "cell_type": "code",
   "execution_count": null,
   "metadata": {},
   "outputs": [],
   "source": [
    "lintab.field_names = [\"Parameters\", \"Best Solution\", \"Mean\", \"Error\", \"Simulation Time(in secs)\"]\n",
    "\n",
    "start_time = time.time()\n",
    "\n",
    "sa_lintab3 = SimAnneal(coords,alpha=1,cooling_schedule='logarithmic',T=50,stopping_iter=50000)\n",
    "bestfits = sa_lintab3.batch_anneal(times=30)  \n",
    "simtime = time.time()-start_time\n",
    "best =  sa_lintab3.best_fitness\n",
    "sa_lintab3.visualize_routes()\n",
    "sa_lintab3.plot_learning()\n",
    "mean, error = stats(bestfits,best)\n",
    "lintab.add_row([\"alpha=1,T=50,Maximum Iterations=50,000\",best,mean, error, simtime])"
   ]
  },
  {
   "cell_type": "code",
   "execution_count": null,
   "metadata": {},
   "outputs": [],
   "source": [
    "lintab.field_names = [\"Parameters\", \"Best Solution\", \"Mean\", \"Error\", \"Simulation Time(in secs)\"]\n",
    "\n",
    "start_time = time.time()\n",
    "\n",
    "sa_lintab4 = SimAnneal(coords,alpha=1,cooling_schedule='logarithmic',T=20,stopping_iter=50000)\n",
    "bestfits = sa_lintab4.batch_anneal(times=30)  \n",
    "simtime = time.time()-start_time\n",
    "best =  sa_lintab4.best_fitness\n",
    "sa_lintab4.visualize_routes()\n",
    "sa_lintab4.plot_learning()\n",
    "mean, error = stats(bestfits,best)\n",
    "lintab.add_row([\"alpha=1,T=50,Maximum Iterations=50,000\",best,mean, error, simtime])"
   ]
  },
  {
   "cell_type": "markdown",
   "metadata": {},
   "source": [
    "### alpha = 2"
   ]
  },
  {
   "cell_type": "code",
   "execution_count": null,
   "metadata": {},
   "outputs": [],
   "source": [
    "lintab.field_names = [\"Parameters\", \"Best Solution\", \"Mean\", \"Error\", \"Simulation Time(in secs)\"]\n",
    "\n",
    "start_time = time.time()\n",
    "\n",
    "sa_lintab5 = SimAnneal(coords,alpha=2,cooling_schedule='logarithmic',T=50)\n",
    "bestfits = sa_lintab5.batch_anneal(times=30)  \n",
    "simtime = time.time()-start_time\n",
    "best =  sa_lintab5.best_fitness\n",
    "sa_lintab5.visualize_routes()\n",
    "sa_lintab5.plot_learning()\n",
    "mean, error = stats(bestfits,best)\n",
    "lintab.add_row([\"alpha=2,T=50,Maximum Iterations=100,000\",best,mean, error, simtime])"
   ]
  },
  {
   "cell_type": "code",
   "execution_count": null,
   "metadata": {},
   "outputs": [],
   "source": [
    "lintab.field_names = [\"Parameters\", \"Best Solution\", \"Mean\", \"Error\", \"Simulation Time(in secs)\"]\n",
    "\n",
    "start_time = time.time()\n",
    "\n",
    "sa_lintab6 = SimAnneal(coords,alpha=2,cooling_schedule='logarithmic',T=20)\n",
    "bestfits = sa_lintab6.batch_anneal(times=30)  \n",
    "simtime = time.time()-start_time\n",
    "best =  sa_lintab6.best_fitness\n",
    "sa_lintab6.visualize_routes()\n",
    "sa_lintab6.plot_learning()\n",
    "mean, error = stats(bestfits,best)\n",
    "lintab.add_row([\"alpha=2,T=20,Maximum Iterations=100,000\",best,mean, error, simtime])"
   ]
  },
  {
   "cell_type": "code",
   "execution_count": null,
   "metadata": {},
   "outputs": [],
   "source": [
    "lintab.field_names = [\"Parameters\", \"Best Solution\", \"Mean\", \"Error\", \"Simulation Time(in secs)\"]\n",
    "\n",
    "start_time = time.time()\n",
    "\n",
    "sa_lintab7 = SimAnneal(coords,alpha=2,cooling_schedule='logarithmic',T=50,stopping_iter=50000)\n",
    "bestfits = sa_lintab7.batch_anneal(times=30)  \n",
    "simtime = time.time()-start_time\n",
    "best =  sa_lintab7.best_fitness\n",
    "sa_lintab7.visualize_routes()\n",
    "sa_lintab7.plot_learning()\n",
    "mean, error = stats(bestfits,best)\n",
    "lintab.add_row([\"alpha=2,T=50,Maximum Iterations=50,000\",best,mean, error, simtime])"
   ]
  },
  {
   "cell_type": "code",
   "execution_count": null,
   "metadata": {},
   "outputs": [],
   "source": [
    "lintab.field_names = [\"Parameters\", \"Best Solution\", \"Mean\", \"Error\", \"Simulation Time(in secs)\"]\n",
    "\n",
    "start_time = time.time()\n",
    "\n",
    "sa_lintab8 = SimAnneal(coords,alpha=2,cooling_schedule='logarithmic',T=20,stopping_iter=50000)\n",
    "bestfits = sa_lintab8.batch_anneal(times=30)  \n",
    "simtime = time.time()-start_time\n",
    "best =  sa_lintab8.best_fitness\n",
    "sa_lintab8.visualize_routes()\n",
    "sa_lintab8.plot_learning()\n",
    "mean, error = stats(bestfits,best)\n",
    "lintab.add_row([\"alpha=2,T=50,Maximum Iterations=50,000\",best,mean, error, simtime])"
   ]
  },
  {
   "cell_type": "code",
   "execution_count": null,
   "metadata": {},
   "outputs": [],
   "source": [
    "print(lintab)"
   ]
  },
  {
   "cell_type": "markdown",
   "metadata": {},
   "source": [
    "## Exponential Multiplicative Tests"
   ]
  },
  {
   "cell_type": "code",
   "execution_count": null,
   "metadata": {},
   "outputs": [],
   "source": [
    "exptab = PrettyTable()\n",
    "exptab.field_names = [\"Parameters\", \"Best Solution\", \"Mean\", \"Error\", \"Simulation Time(in secs)\"]\n",
    "\n",
    "start_time = time.time()\n",
    "\n",
    "sa_exptab1 = SimAnneal(coords,alpha=1,cooling_schedule='logarithmic',T=50)\n",
    "bestfits = sa_exptab1.batch_anneal(times=30)  \n",
    "simtime = time.time()-start_time\n",
    "best =  sa_exptab1.best_fitness\n",
    "sa_exptab1.visualize_routes()\n",
    "sa_exptab1.plot_learning()\n",
    "mean, error = stats(bestfits,best)\n",
    "exptab.add_row([\"alpha=1,T=50,Maximum Iterations=100,000\",best,mean, error, simtime])"
   ]
  },
  {
   "cell_type": "code",
   "execution_count": null,
   "metadata": {},
   "outputs": [],
   "source": [
    "exptab.field_names = [\"Parameters\", \"Best Solution\", \"Mean\", \"Error\", \"Simulation Time(in secs)\"]\n",
    "\n",
    "start_time = time.time()\n",
    "\n",
    "sa_exptab2 = SimAnneal(coords,alpha=1,cooling_schedule='logarithmic',T=20)\n",
    "bestfits = sa_exptab2.batch_anneal(times=30)  \n",
    "simtime = time.time()-start_time\n",
    "best =  sa_exptab2.best_fitness\n",
    "sa_exptab2.visualize_routes()\n",
    "sa_exptab2.plot_learning()\n",
    "mean, error = stats(bestfits,best)\n",
    "exptab.add_row([\"alpha=1,T=20,Maximum Iterations=100,000\",best,mean, error, simtime])"
   ]
  },
  {
   "cell_type": "code",
   "execution_count": null,
   "metadata": {},
   "outputs": [],
   "source": [
    "exptab.field_names = [\"Parameters\", \"Best Solution\", \"Mean\", \"Error\", \"Simulation Time(in secs)\"]\n",
    "\n",
    "start_time = time.time()\n",
    "\n",
    "sa_exptab3 = SimAnneal(coords,alpha=1,cooling_schedule='logarithmic',T=50,stopping_iter=50000)\n",
    "bestfits = sa_exptab3.batch_anneal(times=30)  \n",
    "simtime = time.time()-start_time\n",
    "best =  sa_exptab3.best_fitness\n",
    "sa_exptab3.visualize_routes()\n",
    "sa_exptab3.plot_learning()\n",
    "mean, error = stats(bestfits,best)\n",
    "exptab.add_row([\"alpha=1,T=50,Maximum Iterations=50,000\",best,mean, error, simtime])"
   ]
  },
  {
   "cell_type": "code",
   "execution_count": null,
   "metadata": {},
   "outputs": [],
   "source": [
    "exptab.field_names = [\"Parameters\", \"Best Solution\", \"Mean\", \"Error\", \"Simulation Time(in secs)\"]\n",
    "\n",
    "start_time = time.time()\n",
    "\n",
    "sa_exptab4 = SimAnneal(coords,alpha=1,cooling_schedule='logarithmic',T=20,stopping_iter=50000)\n",
    "bestfits = sa_exptab4.batch_anneal(times=30)  \n",
    "simtime = time.time()-start_time\n",
    "best =  sa_exptab4.best_fitness\n",
    "sa_exptab4.visualize_routes()\n",
    "sa_exptab4.plot_learning()\n",
    "mean, error = stats(bestfits,best)\n",
    "exptab.add_row([\"alpha=1,T=50,Maximum Iterations=50,000\",best,mean, error, simtime])"
   ]
  },
  {
   "cell_type": "markdown",
   "metadata": {},
   "source": [
    "### alpha = 2"
   ]
  },
  {
   "cell_type": "code",
   "execution_count": null,
   "metadata": {},
   "outputs": [],
   "source": [
    "exptab.field_names = [\"Parameters\", \"Best Solution\", \"Mean\", \"Error\", \"Simulation Time(in secs)\"]\n",
    "\n",
    "start_time = time.time()\n",
    "\n",
    "sa_exptab5 = SimAnneal(coords,alpha=2,cooling_schedule='logarithmic',T=50)\n",
    "bestfits = sa_exptab5.batch_anneal(times=30)  \n",
    "simtime = time.time()-start_time\n",
    "best =  sa_exptab5.best_fitness\n",
    "sa_exptab5.visualize_routes()\n",
    "sa_exptab5.plot_learning()\n",
    "mean, error = stats(bestfits,best)\n",
    "exptab.add_row([\"alpha=2,T=50,Maximum Iterations=100,000\",best,mean, error, simtime])"
   ]
  },
  {
   "cell_type": "code",
   "execution_count": null,
   "metadata": {},
   "outputs": [],
   "source": [
    "exptab.field_names = [\"Parameters\", \"Best Solution\", \"Mean\", \"Error\", \"Simulation Time(in secs)\"]\n",
    "\n",
    "start_time = time.time()\n",
    "\n",
    "sa_exptab6 = SimAnneal(coords,alpha=2,cooling_schedule='logarithmic',T=20)\n",
    "bestfits = sa_exptab6.batch_anneal(times=30)  \n",
    "simtime = time.time()-start_time\n",
    "best =  sa_exptab6.best_fitness\n",
    "sa_exptab6.visualize_routes()\n",
    "sa_exptab6.plot_learning()\n",
    "mean, error = stats(bestfits,best)\n",
    "exptab.add_row([\"alpha=2,T=20,Maximum Iterations=100,000\",best,mean, error, simtime])"
   ]
  },
  {
   "cell_type": "code",
   "execution_count": null,
   "metadata": {},
   "outputs": [],
   "source": [
    "exptab.field_names = [\"Parameters\", \"Best Solution\", \"Mean\", \"Error\", \"Simulation Time(in secs)\"]\n",
    "\n",
    "start_time = time.time()\n",
    "\n",
    "sa_exptab7 = SimAnneal(coords,alpha=2,cooling_schedule='logarithmic',T=50,stopping_iter=50000)\n",
    "bestfits = sa_exptab7.batch_anneal(times=30)  \n",
    "simtime = time.time()-start_time\n",
    "best =  sa_exptab7.best_fitness\n",
    "sa_exptab7.visualize_routes()\n",
    "sa_exptab7.plot_learning()\n",
    "mean, error = stats(bestfits,best)\n",
    "exptab.add_row([\"alpha=2,T=50,Maximum Iterations=50,000\",best,mean, error, simtime])"
   ]
  },
  {
   "cell_type": "code",
   "execution_count": null,
   "metadata": {},
   "outputs": [],
   "source": [
    "exptab.field_names = [\"Parameters\", \"Best Solution\", \"Mean\", \"Error\", \"Simulation Time(in secs)\"]\n",
    "\n",
    "start_time = time.time()\n",
    "\n",
    "sa_exptab8 = SimAnneal(coords,alpha=2,cooling_schedule='logarithmic',T=20,stopping_iter=50000)\n",
    "bestfits = sa_exptab8.batch_anneal(times=30)  \n",
    "simtime = time.time()-start_time\n",
    "best =  sa_exptab8.best_fitness\n",
    "sa_exptab8.visualize_routes()\n",
    "sa_exptab8.plot_learning()\n",
    "mean, error = stats(bestfits,best)\n",
    "exptab.add_row([\"alpha=2,T=50,Maximum Iterations=50,000\",best,mean, error, simtime])"
   ]
  },
  {
   "cell_type": "code",
   "execution_count": null,
   "metadata": {},
   "outputs": [],
   "source": [
    "print(exptab)"
   ]
  },
  {
   "cell_type": "markdown",
   "metadata": {},
   "source": [
    "## Logarithmic Multiplicative Tests"
   ]
  },
  {
   "cell_type": "markdown",
   "metadata": {},
   "source": [
    "### alpha = 0.85"
   ]
  },
  {
   "cell_type": "code",
   "execution_count": null,
   "metadata": {
    "scrolled": true
   },
   "outputs": [],
   "source": [
    "logtab = PrettyTable()\n",
    "logtab.field_names = [\"Parameters\", \"Best Solution\", \"Mean\", \"Error\", \"Simulation Time(in secs)\"]\n",
    "\n",
    "start_time = time.time()\n",
    "\n",
    "sa_logtab1 = SimAnneal(coords,alpha=0.85,cooling_schedule='logarithmic',T=50)\n",
    "bestfits = sa_logtab1.batch_anneal(times=50)  \n",
    "simtime = time.time()-start_time\n",
    "best =  sa_logtab1.best_fitness\n",
    "sa_logtab1.visualize_routes()\n",
    "sa_logtab1.plot_learning()\n",
    "mean, error = stats(bestfits,best)\n",
    "logtab.add_row([\"alpha=0.85,T=50,Maximum Iterations=100,000\",best,mean, error, simtime])"
   ]
  },
  {
   "cell_type": "code",
   "execution_count": null,
   "metadata": {},
   "outputs": [],
   "source": [
    "start_time = time.time()\n",
    "\n",
    "sa_logtab2 = SimAnneal(coords,alpha=0.85,cooling_schedule='logarithmic',T=20)\n",
    "bestfits = sa_logtab2.batch_anneal(times=50)  \n",
    "simtime = time.time()-start_time\n",
    "best =  sa_logtab2.best_fitness\n",
    "sa_logtab2.visualize_routes()\n",
    "sa_logtab2.plot_learning()\n",
    "mean, error = stats(bestfits,best)\n",
    "logtab.add_row([\"alpha=0.85,T=20,Maximum Iterations=100,000\",best,mean, error, simtime])"
   ]
  },
  {
   "cell_type": "code",
   "execution_count": null,
   "metadata": {},
   "outputs": [],
   "source": [
    "start_time = time.time()\n",
    "\n",
    "sa_logtab3 = SimAnneal(coords,alpha=0.85,cooling_schedule='logarithmic',T=50,stopping_iter=50000)\n",
    "bestfits = sa_logtab3.batch_anneal(times=50)  \n",
    "simtime = time.time()-start_time\n",
    "best =  sa_logtab3.best_fitness\n",
    "sa_logtab3.visualize_routes()\n",
    "sa_logtab3.plot_learning()\n",
    "mean, error = stats(bestfits,best)\n",
    "logtab.add_row([\"alpha=0.85,T=50,Maximum Iterations=50,000\",best,mean, error, simtime])"
   ]
  },
  {
   "cell_type": "code",
   "execution_count": null,
   "metadata": {},
   "outputs": [],
   "source": [
    "start_time = time.time()\n",
    "\n",
    "sa_logtab4 = SimAnneal(coords,alpha=0.85,cooling_schedule='logarithmic',T=20,stopping_iter=50000)\n",
    "bestfits = sa_logtab4.batch_anneal(times=50)  \n",
    "simtime = time.time()-start_time\n",
    "best =  sa_logtab4.best_fitness\n",
    "sa_logtab4.visualize_routes()\n",
    "sa_logtab4.plot_learning()\n",
    "mean, error = stats(bestfits,best)\n",
    "logtab.add_row([\"alpha=0.85,T=20,Maximum Iterations=50,000\",best,mean, error, simtime])"
   ]
  },
  {
   "cell_type": "markdown",
   "metadata": {},
   "source": [
    "### alpha = 1.3"
   ]
  },
  {
   "cell_type": "code",
   "execution_count": null,
   "metadata": {},
   "outputs": [],
   "source": [
    "logtab.field_names = [\"Parameters\", \"Best Solution\", \"Mean\", \"Error\", \"Simulation Time(in secs)\"]\n",
    "\n",
    "start_time = time.time()\n",
    "\n",
    "sa_logtab5 = SimAnneal(coords,alpha=1.3,cooling_schedule='logarithmic',T=50)\n",
    "bestfits = sa_logtab5.batch_anneal(times=50)  \n",
    "simtime = time.time()-start_time\n",
    "best =  sa_logtab5.best_fitness\n",
    "sa_logtab5.visualize_routes()\n",
    "sa_logtab5.plot_learning()\n",
    "mean, error = stats(bestfits,best)\n",
    "logtab.add_row([\"alpha=1.3,T=50,Maximum Iterations=100,000\",best,mean, error, simtime])"
   ]
  },
  {
   "cell_type": "code",
   "execution_count": null,
   "metadata": {},
   "outputs": [],
   "source": [
    "start_time = time.time()\n",
    "\n",
    "sa_logtab6 = SimAnneal(coords,alpha=1.3,cooling_schedule='logarithmic',T=20)\n",
    "bestfits = sa_logtab6.batch_anneal(times=50)  \n",
    "simtime = time.time()-start_time\n",
    "best =  sa_logtab6.best_fitness\n",
    "sa_logtab6.visualize_routes()\n",
    "sa_logtab6.plot_learning()\n",
    "mean, error = stats(bestfits,best)\n",
    "logtab.add_row([\"alpha=1.3,T=20,Maximum Iterations=100,000\",best,mean, error, simtime])"
   ]
  },
  {
   "cell_type": "code",
   "execution_count": null,
   "metadata": {},
   "outputs": [],
   "source": [
    "start_time = time.time()\n",
    "\n",
    "sa_logtab7 = SimAnneal(coords,alpha=1.3,cooling_schedule='logarithmic',T=50,stopping_iter=50000)\n",
    "bestfits = sa_logtab7.batch_anneal(times=50)  \n",
    "simtime = time.time()-start_time\n",
    "best =  sa_logtab7.best_fitness\n",
    "sa_logtab7.visualize_routes()\n",
    "sa_logtab7.plot_learning()\n",
    "mean, error = stats(bestfits,best)\n",
    "logtab.add_row([\"alpha=1.3,T=50,Maximum Iterations=50,000\",best,mean, error, simtime])"
   ]
  },
  {
   "cell_type": "code",
   "execution_count": null,
   "metadata": {},
   "outputs": [],
   "source": [
    "start_time = time.time()\n",
    "\n",
    "sa_logtab8 = SimAnneal(coords,alpha=1.3,cooling_schedule='logarithmic',T=20,stopping_iter=50000)\n",
    "bestfits = sa_logtab8.batch_anneal(times=50)  \n",
    "simtime = time.time()-start_time\n",
    "best =  sa_logtab8.best_fitness\n",
    "sa_logtab8.visualize_routes()\n",
    "sa_logtab8.plot_learning()\n",
    "mean, error = stats(bestfits,best)\n",
    "logtab.add_row([\"alpha=1.3,T=20,Maximum Iterations=50,000\",best,mean, error, simtime])"
   ]
  },
  {
   "cell_type": "code",
   "execution_count": null,
   "metadata": {},
   "outputs": [],
   "source": [
    "print(logtab)"
   ]
  },
  {
   "cell_type": "markdown",
   "metadata": {},
   "source": [
    "## Test for determining stopping temp(stopping_T) :"
   ]
  },
  {
   "cell_type": "markdown",
   "metadata": {},
   "source": [
    "## Linear Additive"
   ]
  },
  {
   "cell_type": "code",
   "execution_count": null,
   "metadata": {},
   "outputs": [],
   "source": [
    "lintab_temp = PrettyTable()\n",
    "lintab_temp.field_names = [\"Parameters\", \"Best Solution\", \"Mean\", \"Error\", \"Simulation Time(in secs)\"]\n",
    "\n",
    "start_time = time.time()\n",
    "\n",
    "sa_lintab_temp1 = SimAnneal(coords,cooling_schedule='linear',T=20,stopping_iter=50000)\n",
    "bestfits = sa_lintab_temp1.batch_anneal(times=50)  \n",
    "simtime = time.time()-start_time\n",
    "best =  sa_lintab_temp1.best_fitness\n",
    "sa_lintab_temp1.visualize_routes()\n",
    "sa_lintab_temp1.plot_learning()\n",
    "mean, error = stats(bestfits,best)\n",
    "lintab_temp.add_row([\"alpha=,T=,Maximum Iterations=,Stopping Temperature=10^-8\",best,mean, error, simtime])"
   ]
  },
  {
   "cell_type": "code",
   "execution_count": null,
   "metadata": {},
   "outputs": [],
   "source": [
    "start_time = time.time()\n",
    "\n",
    "sa_lintab_temp2 = SimAnneal(coords,cooling_schedule='linear',T=20,stopping_iter=50000,stopping_T=1e-6)\n",
    "bestfits = sa_lintab_temp2.batch_anneal(times=50)  \n",
    "simtime = time.time()-start_time\n",
    "best =  sa_lintab_temp2.best_fitness\n",
    "sa_lintab_temp2.visualize_routes()\n",
    "sa_lintab_temp2.plot_learning()\n",
    "mean, error = stats(bestfits,best)\n",
    "lintab_temp.add_row([\"alpha=,T=,Maximum Iterations=,Stopping Temperature=10^-6\",best,mean, error, simtime])"
   ]
  },
  {
   "cell_type": "code",
   "execution_count": null,
   "metadata": {},
   "outputs": [],
   "source": [
    "print(lintab_temp)"
   ]
  },
  {
   "cell_type": "markdown",
   "metadata": {},
   "source": [
    "## Linear Exponential"
   ]
  },
  {
   "cell_type": "code",
   "execution_count": null,
   "metadata": {},
   "outputs": [],
   "source": [
    "exptab_temp = PrettyTable()\n",
    "exptab_temp.field_names = [\"Parameters\", \"Best Solution\", \"Mean\", \"Error\", \"Simulation Time(in secs)\"]\n",
    "\n",
    "start_time = time.time()\n",
    "\n",
    "sa_exptab_temp1 = SimAnneal(coords,cooling_schedule='exponential',T=20,stopping_iter=50000)\n",
    "bestfits = sa_exptab_temp1.batch_anneal(times=50)  \n",
    "simtime = time.time()-start_time\n",
    "best =  sa_exptab_temp1.best_fitness\n",
    "sa_exptab_temp1.visualize_routes()\n",
    "sa_exptab_temp1.plot_learning()\n",
    "mean, error = stats(bestfits,best)\n",
    "exptab_temp.add_row([\"alpha=,T=,Maximum Iterations=,Stopping Temperature=10^-8\",best,mean, error, simtime])"
   ]
  },
  {
   "cell_type": "code",
   "execution_count": null,
   "metadata": {},
   "outputs": [],
   "source": [
    "start_time = time.time()\n",
    "\n",
    "sa_exptab_temp2 = SimAnneal(coords,cooling_schedule='exponential',T=20,stopping_iter=50000,stopping_T=1e-6)\n",
    "bestfits = sa_exptab_temp2.batch_anneal(times=50)  \n",
    "simtime = time.time()-start_time\n",
    "best =  sa_exptab_temp2.best_fitness\n",
    "sa_exptab_temp2.visualize_routes()\n",
    "sa_exptab_temp2.plot_learning()\n",
    "mean, error = stats(bestfits,best)\n",
    "exptab_temp.add_row([\"alpha=,T=,Maximum Iterations=,Stopping Temperature=10^-6\",best,mean, error, simtime])"
   ]
  },
  {
   "cell_type": "code",
   "execution_count": null,
   "metadata": {
    "scrolled": true
   },
   "outputs": [],
   "source": [
    "print(exptab_temp)"
   ]
  },
  {
   "cell_type": "markdown",
   "metadata": {},
   "source": [
    "## Linear Multiplicative"
   ]
  },
  {
   "cell_type": "code",
   "execution_count": null,
   "metadata": {},
   "outputs": [],
   "source": [
    "lintabmult_temp = PrettyTable()\n",
    "lintabmult_temp.field_names = [\"Parameters\", \"Best Solution\", \"Mean\", \"Error\", \"Simulation Time(in secs)\"]\n",
    "\n",
    "start_time = time.time()\n",
    "\n",
    "sa_lintabmult_temp1 = SimAnneal(coords,alpha=1.3,cooling_schedule='logarithmic',T=20)\n",
    "bestfits = sa_lintabmult_temp1.batch_anneal(times=50)  \n",
    "simtime = time.time()-start_time\n",
    "best =  sa_lintabmult_temp1.best_fitness\n",
    "sa_lintabmult_temp1.visualize_routes()\n",
    "sa_lintabmult_temp1.plot_learning()\n",
    "mean, error = stats(bestfits,best)\n",
    "lintabmult_temp.add_row([\"alpha=1.3,T=20,Maximum Iterations=100000,Stopping Temperature=10^-8\",best,mean, error, simtime])"
   ]
  },
  {
   "cell_type": "code",
   "execution_count": null,
   "metadata": {},
   "outputs": [],
   "source": [
    "start_time = time.time()\n",
    "\n",
    "sa_lintabmult_temp2 = SimAnneal(coords,alpha=1.3,cooling_schedule='logarithmic',T=20,stopping_T=1e-6)\n",
    "bestfits = sa_lintabmult_temp2.batch_anneal(times=50)  \n",
    "simtime = time.time()-start_time\n",
    "best =  sa_lintabmult_temp2.best_fitness\n",
    "sa_lintabmult_temp2.visualize_routes()\n",
    "sa_lintabmult_temp2.plot_learning()\n",
    "mean, error = stats(bestfits,best)\n",
    "lintabmult_temp.add_row([\"alpha=1.3,T=50,Maximum Iterations=100000, Stopping Temperature=10^-6\",best,mean, error, simtime])"
   ]
  },
  {
   "cell_type": "code",
   "execution_count": null,
   "metadata": {},
   "outputs": [],
   "source": [
    "print(lintabmult_temp)"
   ]
  },
  {
   "cell_type": "markdown",
   "metadata": {},
   "source": [
    "## Exponential Multiplicative"
   ]
  },
  {
   "cell_type": "code",
   "execution_count": null,
   "metadata": {},
   "outputs": [],
   "source": [
    "exptabmult_temp = PrettyTable()\n",
    "exptabmult_temp.field_names = [\"Parameters\", \"Best Solution\", \"Mean\", \"Error\", \"Simulation Time(in secs)\"]\n",
    "\n",
    "start_time = time.time()\n",
    "\n",
    "sa_exptabmult_temp1 = SimAnneal(coords,alpha=0.999,cooling_schedule='logarithmic',T=20,stopping_iter=50000)\n",
    "bestfits = sa_exptabmult_temp1.batch_anneal(times=50)  \n",
    "simtime = time.time()-start_time\n",
    "best =  sa_exptabmult_temp1.best_fitness\n",
    "sa_exptabmult_temp1.visualize_routes()\n",
    "sa_exptabmult_temp1.plot_learning()\n",
    "mean, error = stats(bestfits,best)\n",
    "exptabmult_temp.add_row([\"alpha=0.999,T=20,Maximum Iterations=50000,Stopping Temperature=10^-8\",best,mean, error, simtime])"
   ]
  },
  {
   "cell_type": "code",
   "execution_count": null,
   "metadata": {},
   "outputs": [],
   "source": [
    "start_time = time.time()\n",
    "\n",
    "sa_exptabmult_temp2 = SimAnneal(coords,alpha=0.999,cooling_schedule='logarithmic',T=20,stopping_T=1e-6,stopping_iter=50000)\n",
    "bestfits = sa_exptabmult_temp2.batch_anneal(times=50)  \n",
    "simtime = time.time()-start_time\n",
    "best =  sa_exptabmult_temp2.best_fitness\n",
    "sa_exptabmult_temp2.visualize_routes()\n",
    "sa_exptabmult_temp2.plot_learning()\n",
    "mean, error = stats(bestfits,best)\n",
    "exptabmult_temp.add_row([\"alpha=0.999,T=20,Maximum Iterations=50000, Stopping Temperature=10^-6\",best,mean, error, simtime])"
   ]
  },
  {
   "cell_type": "code",
   "execution_count": null,
   "metadata": {},
   "outputs": [],
   "source": [
    "print(exptabmult_temp)"
   ]
  },
  {
   "cell_type": "markdown",
   "metadata": {},
   "source": [
    "## Logarithmic"
   ]
  },
  {
   "cell_type": "code",
   "execution_count": null,
   "metadata": {},
   "outputs": [],
   "source": [
    "logtab_temp = PrettyTable()\n",
    "logtab_temp.field_names = [\"Parameters\", \"Best Solution\", \"Mean\", \"Error\", \"Simulation Time(in secs)\"]\n",
    "\n",
    "start_time = time.time()\n",
    "\n",
    "sa_logtab_temp1 = SimAnneal(coords,alpha=1.3,cooling_schedule='logarithmic',T=20,stopping_iter=50000)\n",
    "bestfits = sa_logtab_temp1.batch_anneal(times=50)  \n",
    "simtime = time.time()-start_time\n",
    "best =  sa_logtab_temp1.best_fitness\n",
    "sa_logtab_temp1.visualize_routes()\n",
    "sa_logtab_temp1.plot_learning()\n",
    "mean, error = stats(bestfits,best)\n",
    "logtab_temp.add_row([\"alpha=1,3,T=20,Maximum Iterations=50,000,Stopping Temperature=10^-8\",best,mean, error, simtime])"
   ]
  },
  {
   "cell_type": "code",
   "execution_count": null,
   "metadata": {},
   "outputs": [],
   "source": [
    "start_time = time.time()\n",
    "\n",
    "sa_logtab_temp2 = SimAnneal(coords,alpha=1.3,cooling_schedule='logarithmic',T=20,stopping_T=1e-6,stopping_iter=50000)\n",
    "bestfits = sa_logtab_temp2.batch_anneal(times=50)  \n",
    "simtime = time.time()-start_time\n",
    "best =  sa_logtab_temp2.best_fitness\n",
    "sa_logtab_temp2.visualize_routes()\n",
    "sa_logtab_temp2.plot_learning()\n",
    "mean, error = stats(bestfits,best)\n",
    "logtab_temp.add_row([\"alpha=1.3,T=20,Maximum Iterations=50,000, Stopping Temperature=10^-6\",best,mean, error, simtime])"
   ]
  },
  {
   "cell_type": "code",
   "execution_count": null,
   "metadata": {},
   "outputs": [],
   "source": [
    "print(logtab_temp)"
   ]
  }
 ],
 "metadata": {
  "kernelspec": {
   "display_name": "Python 3",
   "language": "python",
   "name": "python3"
  },
  "language_info": {
   "codemirror_mode": {
    "name": "ipython",
    "version": 3
   },
   "file_extension": ".py",
   "mimetype": "text/x-python",
   "name": "python",
   "nbconvert_exporter": "python",
   "pygments_lexer": "ipython3",
   "version": "3.8.3"
  }
 },
 "nbformat": 4,
 "nbformat_minor": 4
}
