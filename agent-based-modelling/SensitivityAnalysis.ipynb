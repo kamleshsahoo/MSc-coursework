{
 "cells": [
  {
   "cell_type": "markdown",
   "metadata": {},
   "source": [
    "# Sensitivity Analysis"
   ]
  },
  {
   "cell_type": "code",
   "execution_count": 2,
   "metadata": {},
   "outputs": [],
   "source": [
    "from model import City_Model\n",
    "import numpy as np\n",
    "import matplotlib.pyplot as plt\n",
    "from helpers import *\n",
    "from modelReporters import *\n",
    "from SALib.analyze import sobol\n",
    "from mesa.batchrunner import BatchRunner\n",
    "from SALib.sample import saltelli\n",
    "import pandas as pd"
   ]
  },
  {
   "cell_type": "code",
   "execution_count": 3,
   "metadata": {},
   "outputs": [],
   "source": [
    "problem = {\n",
    "    'num_vars': 4,\n",
    "    'names': ['neg_coff', 'num_groups', 'radius_coff', 'N'],\n",
    "    'bounds': [[0, 0.05], [3, 25], [0.125, 0.5], [1000, 3000]]\n",
    "}\n",
    "\n",
    "\n",
    "model_reporters={\"Beta\":model_beta, \"Rsquare\":model_rsquare, \"Mean_entropy\":mean_entropy}"
   ]
  },
  {
   "cell_type": "markdown",
   "metadata": {},
   "source": [
    "### OFAT"
   ]
  },
  {
   "cell_type": "code",
   "execution_count": null,
   "metadata": {},
   "outputs": [],
   "source": [
    "# Set the repetitions, the amount of steps, and the amount of distinct values per variable\n",
    "replicates = 20\n",
    "max_steps = 30\n",
    "distinct_samples = 15 \n",
    "\n",
    "ofat_data = {}\n",
    "\n",
    "for i, var in enumerate(problem['names']):\n",
    "    # Get the bounds for this variable and get <distinct_samples> samples within this space (uniform)\n",
    "    samples = np.linspace(*problem['bounds'][i], num = distinct_samples)\n",
    "    \n",
    "    # N should be integers. sample in such a way that we only get integers.\n",
    "    if var == 'N' or var == 'num_groups':\n",
    "        samples = np.linspace(*problem['bounds'][i], num = distinct_samples, dtype=int)\n",
    "    \n",
    "    batch = BatchRunner(City_Model, \n",
    "                        max_steps= max_steps,\n",
    "                        iterations= replicates,\n",
    "                        variable_parameters= {var: samples},\n",
    "                        model_reporters= model_reporters,\n",
    "                        display_progress= True)\n",
    "    \n",
    "    batch.run_all()\n",
    "    \n",
    "    ofat_data[var] = batch.get_model_vars_dataframe()"
   ]
  },
  {
   "cell_type": "code",
   "execution_count": null,
   "metadata": {},
   "outputs": [],
   "source": [
    "def plot_param_var_conf(ax, df, var, param, i):\n",
    "    \"\"\"\n",
    "    Helper function for plot_all_vars. Plots the individual parameter vs\n",
    "    variables passed.\n",
    "\n",
    "    Args:\n",
    "        ax: the axis to plot to\n",
    "        df: dataframe that holds the data to be plotted\n",
    "        var: variables to be taken from the dataframe\n",
    "        param: which output variable to plot\n",
    "    \"\"\"\n",
    "    x = df.groupby(var).mean().reset_index()[var]\n",
    "    y = df.groupby(var).mean()[param]\n",
    "\n",
    "    replicates = df.groupby(var)[param].count()\n",
    "    err = (1.96 * df.groupby(var)[param].std()) / np.sqrt(replicates)\n",
    "\n",
    "    ax.plot(x, y, c='k')\n",
    "    ax.fill_between(x, y - err, y + err)\n",
    "\n",
    "    ax.set_xlabel(var)\n",
    "    ax.set_ylabel(param)\n",
    "\n",
    "def plot_all_vars(param):\n",
    "    \"\"\"\n",
    "    Plots the parameters passed vs each of the output variables.\n",
    "\n",
    "    Args:\n",
    "        df: dataframe that holds all data\n",
    "        param: the parameter to be plotted\n",
    "    \"\"\"\n",
    "\n",
    "    f, axs = plt.subplots(2,2, figsize=(10, 6))\n",
    "    axs = axs.flatten()\n",
    "    f.suptitle(\"Variation in {} for different parameters\".format(param),fontweight='bold')\n",
    "    for i, var in enumerate(problem['names']):\n",
    "        plot_param_var_conf(axs[i], ofat_data[var], var, param, i)\n",
    "\n",
    "for param in ('Beta','Rsquare','Mean_entropy'):\n",
    "    plot_all_vars(param)\n",
    "    plt.tight_layout()\n",
    "    plt.show()"
   ]
  },
  {
   "cell_type": "markdown",
   "metadata": {},
   "source": [
    "### SOBOL"
   ]
  },
  {
   "cell_type": "code",
   "execution_count": null,
   "metadata": {},
   "outputs": [],
   "source": [
    "# Set the repetitions, the amount of steps, and the amount of distinct values per variable\n",
    "replicates = 2\n",
    "max_steps = 5\n",
    "distinct_samples = 2\n",
    "\n",
    "# We get all our samples here\n",
    "param_values = saltelli.sample(problem, distinct_samples)\n",
    "\n",
    "\n",
    "batch = BatchRunner(City_Model, \n",
    "                    max_steps =max_steps,\n",
    "                    variable_parameters={name:[] for name in problem['names']},\n",
    "                    model_reporters=model_reporters)\n",
    "\n",
    "count = 0\n",
    "sob_data = pd.DataFrame(index=range(replicates*len(param_values)), \n",
    "                                columns=['neg_coff', 'num_groups', 'radius_coff', 'N'])\n",
    "sob_data['Run'], sob_data['Beta'], sob_data['Rsquare'], sob_data['Mean_entropy'] = None, None, None, None\n",
    "\n",
    "for i in range(replicates):\n",
    "    for vals in param_values: \n",
    "        # Change parameters num_groups and N to integers\n",
    "        vals = list(vals)\n",
    "        vals[1] = int(vals[1])\n",
    "        vals[3] = int(vals[3])\n",
    "        \n",
    "        # Transform to dict with parameter names and their values\n",
    "        variable_parameters = {}\n",
    "        for name, val in zip(problem['names'], vals):\n",
    "            variable_parameters[name] = val\n",
    "\n",
    "        batch.run_iteration(variable_parameters, tuple(vals), count)\n",
    "        iteration_data = batch.get_model_vars_dataframe().iloc[count]\n",
    "        iteration_data['Run'] = count \n",
    "        sob_data.iloc[count, 0:4] = vals\n",
    "        sob_data.iloc[count, 4:8] = iteration_data\n",
    "\n",
    "        count += 1\n",
    "\n",
    "        clear_output()\n",
    "        print(f'{count / (len(param_values) * (replicates)) * 100:.2f}% done')"
   ]
  },
  {
   "cell_type": "code",
   "execution_count": null,
   "metadata": {},
   "outputs": [],
   "source": [
    "Si_beta = sobol.analyze(problem, sob_data['Beta'].values, print_to_console=True)\n",
    "Si_rsquare = sobol.analyze(problem, sob_data['Rsquare'].values, print_to_console=True)\n",
    "Si_mean_entropy = sobol.analyze(problem, sob_data['Mean_entropy'].values, print_to_console=True)"
   ]
  },
  {
   "cell_type": "code",
   "execution_count": null,
   "metadata": {},
   "outputs": [],
   "source": [
    "def plot_index(ax, s, params, i, title=''):\n",
    "    \"\"\"\n",
    "    Creates a plot for Sobol sensitivity analysis that shows the contributions\n",
    "    of each parameter to the global sensitivity.\n",
    "\n",
    "    Args:\n",
    "        ax: an axes to plot upon. \n",
    "        s (dict): dictionary {'S#': dict, 'S#_conf': dict} of dicts that hold\n",
    "            the values for a set of parameters\n",
    "        params (list): the parameters taken from s\n",
    "        i (str): string that indicates what order the sensitivity is.\n",
    "        title (str): title for the plot\n",
    "    \"\"\"\n",
    "\n",
    "    if i == '2':\n",
    "        p = len(params)\n",
    "        params = list(combinations(params, 2))\n",
    "        indices = s['S' + i].reshape((p ** 2))\n",
    "        indices = indices[~np.isnan(indices)]\n",
    "        errors = s['S' + i + '_conf'].reshape((p ** 2))\n",
    "        errors = errors[~np.isnan(errors)]\n",
    "    else:\n",
    "        indices = s['S' + i]\n",
    "        errors = s['S' + i + '_conf']\n",
    "        \n",
    "    l = len(indices)\n",
    "\n",
    "    ax.set_title(title, fontsize=12)\n",
    "    ax.set_ylim([-0.2, len(indices) - 1 + 0.2])\n",
    "    ax.set_yticks(range(l))\n",
    "    ax.set_yticklabels(params, fontsize=9, rotation=30) # labels\n",
    "    ax.errorbar(indices, range(l), xerr=errors, linestyle='None', marker='o')\n",
    "    ax.axvline(0, c='k')"
   ]
  },
  {
   "cell_type": "code",
   "execution_count": null,
   "metadata": {},
   "outputs": [],
   "source": [
    "fig, axs = plt.subplots(nrows=3,ncols=2,figsize=(12,9),dpi=200)\n",
    "\n",
    "axs = axs.flatten()\n",
    "row_labels = [r'$\\beta$',r'$R^2$','Entropy']\n",
    "for i, Si in enumerate([Si_beta, Si_rsquare, Si_mean_entropy]):\n",
    "    # First order\n",
    "    plot_index(axs[2*i], Si, problem['names'], '1', 'First order sensitivity')\n",
    "    axs[2*i].set_ylabel(row_labels[i], rotation=0, size=15)\n",
    "    axs[2*i].yaxis.labelpad = 25\n",
    "    \n",
    "\n",
    "    '''\n",
    "    # Second order\n",
    "    plot_index(axs[3*i+1], Si, problem['names'], '2', 'Second order sensitivity')\n",
    "    #plt.show()'''\n",
    "\n",
    "    # Total order\n",
    "    plot_index(axs[2*i+1], Si, problem['names'], 'T', 'Total order sensitivity')\n",
    "    \n",
    "    \n",
    "plt.tight_layout() "
   ]
  },
  {
   "cell_type": "code",
   "execution_count": null,
   "metadata": {},
   "outputs": [],
   "source": []
  }
 ],
 "metadata": {
  "kernelspec": {
   "display_name": "Python 3",
   "language": "python",
   "name": "python3"
  },
  "language_info": {
   "codemirror_mode": {
    "name": "ipython",
    "version": 3
   },
   "file_extension": ".py",
   "mimetype": "text/x-python",
   "name": "python",
   "nbconvert_exporter": "python",
   "pygments_lexer": "ipython3",
   "version": "3.8.5"
  }
 },
 "nbformat": 4,
 "nbformat_minor": 4
}
